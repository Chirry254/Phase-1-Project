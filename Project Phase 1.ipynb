{
 "cells": [
  {
   "cell_type": "markdown",
   "id": "f30dc9c0",
   "metadata": {},
   "source": [
    "# PROJECT PHASE 1\n",
    "**AVIATION ACCIDENTS ANALYSIS**"
   ]
  },
  {
   "cell_type": "markdown",
   "id": "687feefd",
   "metadata": {
    "slideshow": {
     "slide_type": "subslide"
    }
   },
   "source": [
    "1. Introduction."
   ]
  },
  {
   "cell_type": "markdown",
   "id": "3b164939",
   "metadata": {},
   "source": [
    "  In line with Our plans to diversify portfolios, by taking interest in purchase  and operating aircrafts,for commercial and private enterprises.I have taken dataset from National Transportation Safety Board (NTSB) that has aviation accidents data from 1962 to 2023.\n",
    "   Its all about  civil aviation accidents and incidents in USA nad International waters."
   ]
  },
  {
   "cell_type": "markdown",
   "id": "0fb88f48",
   "metadata": {},
   "source": [
    "Import Standard Libraries"
   ]
  },
  {
   "cell_type": "code",
   "execution_count": 1719,
   "id": "5a848354",
   "metadata": {},
   "outputs": [],
   "source": [
    "#import standard libraries to use throught out.\n",
    "#alias is key here\n",
    "import pandas as pd\n",
    "import numpy as np\n",
    "import matplotlib.pyplot as plt\n",
    "import seaborn as sns\n",
    "import matplotlib.cm as cm "
   ]
  },
  {
   "cell_type": "markdown",
   "id": "ad1f39a4",
   "metadata": {},
   "source": [
    "Load dataset into dataframe"
   ]
  },
  {
   "cell_type": "code",
   "execution_count": 1720,
   "id": "58bc4924",
   "metadata": {},
   "outputs": [],
   "source": [
    "#read dataset from where its stored.\n",
    "#  loading is critical to ensure its accessibility.\n",
    "df = pd.read_csv('data/Aviation_Data.csv', low_memory = False)\n"
   ]
  },
  {
   "cell_type": "markdown",
   "id": "671b4a58",
   "metadata": {},
   "source": [
    "Data Exploration and preparation"
   ]
  },
  {
   "cell_type": "code",
   "execution_count": 1721,
   "id": "e0fe47b4",
   "metadata": {},
   "outputs": [
    {
     "data": {
      "text/html": [
       "<div>\n",
       "<style scoped>\n",
       "    .dataframe tbody tr th:only-of-type {\n",
       "        vertical-align: middle;\n",
       "    }\n",
       "\n",
       "    .dataframe tbody tr th {\n",
       "        vertical-align: top;\n",
       "    }\n",
       "\n",
       "    .dataframe thead th {\n",
       "        text-align: right;\n",
       "    }\n",
       "</style>\n",
       "<table border=\"1\" class=\"dataframe\">\n",
       "  <thead>\n",
       "    <tr style=\"text-align: right;\">\n",
       "      <th></th>\n",
       "      <th>Event.Id</th>\n",
       "      <th>Investigation.Type</th>\n",
       "      <th>Accident.Number</th>\n",
       "      <th>Event.Date</th>\n",
       "      <th>Location</th>\n",
       "      <th>Country</th>\n",
       "      <th>Latitude</th>\n",
       "      <th>Longitude</th>\n",
       "      <th>Airport.Code</th>\n",
       "      <th>Airport.Name</th>\n",
       "      <th>...</th>\n",
       "      <th>Purpose.of.flight</th>\n",
       "      <th>Air.carrier</th>\n",
       "      <th>Total.Fatal.Injuries</th>\n",
       "      <th>Total.Serious.Injuries</th>\n",
       "      <th>Total.Minor.Injuries</th>\n",
       "      <th>Total.Uninjured</th>\n",
       "      <th>Weather.Condition</th>\n",
       "      <th>Broad.phase.of.flight</th>\n",
       "      <th>Report.Status</th>\n",
       "      <th>Publication.Date</th>\n",
       "    </tr>\n",
       "  </thead>\n",
       "  <tbody>\n",
       "    <tr>\n",
       "      <th>0</th>\n",
       "      <td>20001218X45444</td>\n",
       "      <td>Accident</td>\n",
       "      <td>SEA87LA080</td>\n",
       "      <td>1948-10-24</td>\n",
       "      <td>MOOSE CREEK, ID</td>\n",
       "      <td>United States</td>\n",
       "      <td>NaN</td>\n",
       "      <td>NaN</td>\n",
       "      <td>NaN</td>\n",
       "      <td>NaN</td>\n",
       "      <td>...</td>\n",
       "      <td>Personal</td>\n",
       "      <td>NaN</td>\n",
       "      <td>2.0</td>\n",
       "      <td>0.0</td>\n",
       "      <td>0.0</td>\n",
       "      <td>0.0</td>\n",
       "      <td>UNK</td>\n",
       "      <td>Cruise</td>\n",
       "      <td>Probable Cause</td>\n",
       "      <td>NaN</td>\n",
       "    </tr>\n",
       "    <tr>\n",
       "      <th>1</th>\n",
       "      <td>20001218X45447</td>\n",
       "      <td>Accident</td>\n",
       "      <td>LAX94LA336</td>\n",
       "      <td>1962-07-19</td>\n",
       "      <td>BRIDGEPORT, CA</td>\n",
       "      <td>United States</td>\n",
       "      <td>NaN</td>\n",
       "      <td>NaN</td>\n",
       "      <td>NaN</td>\n",
       "      <td>NaN</td>\n",
       "      <td>...</td>\n",
       "      <td>Personal</td>\n",
       "      <td>NaN</td>\n",
       "      <td>4.0</td>\n",
       "      <td>0.0</td>\n",
       "      <td>0.0</td>\n",
       "      <td>0.0</td>\n",
       "      <td>UNK</td>\n",
       "      <td>Unknown</td>\n",
       "      <td>Probable Cause</td>\n",
       "      <td>19-09-1996</td>\n",
       "    </tr>\n",
       "    <tr>\n",
       "      <th>2</th>\n",
       "      <td>20061025X01555</td>\n",
       "      <td>Accident</td>\n",
       "      <td>NYC07LA005</td>\n",
       "      <td>1974-08-30</td>\n",
       "      <td>Saltville, VA</td>\n",
       "      <td>United States</td>\n",
       "      <td>36.922223</td>\n",
       "      <td>-81.878056</td>\n",
       "      <td>NaN</td>\n",
       "      <td>NaN</td>\n",
       "      <td>...</td>\n",
       "      <td>Personal</td>\n",
       "      <td>NaN</td>\n",
       "      <td>3.0</td>\n",
       "      <td>NaN</td>\n",
       "      <td>NaN</td>\n",
       "      <td>NaN</td>\n",
       "      <td>IMC</td>\n",
       "      <td>Cruise</td>\n",
       "      <td>Probable Cause</td>\n",
       "      <td>26-02-2007</td>\n",
       "    </tr>\n",
       "    <tr>\n",
       "      <th>3</th>\n",
       "      <td>20001218X45448</td>\n",
       "      <td>Accident</td>\n",
       "      <td>LAX96LA321</td>\n",
       "      <td>1977-06-19</td>\n",
       "      <td>EUREKA, CA</td>\n",
       "      <td>United States</td>\n",
       "      <td>NaN</td>\n",
       "      <td>NaN</td>\n",
       "      <td>NaN</td>\n",
       "      <td>NaN</td>\n",
       "      <td>...</td>\n",
       "      <td>Personal</td>\n",
       "      <td>NaN</td>\n",
       "      <td>2.0</td>\n",
       "      <td>0.0</td>\n",
       "      <td>0.0</td>\n",
       "      <td>0.0</td>\n",
       "      <td>IMC</td>\n",
       "      <td>Cruise</td>\n",
       "      <td>Probable Cause</td>\n",
       "      <td>12-09-2000</td>\n",
       "    </tr>\n",
       "    <tr>\n",
       "      <th>4</th>\n",
       "      <td>20041105X01764</td>\n",
       "      <td>Accident</td>\n",
       "      <td>CHI79FA064</td>\n",
       "      <td>1979-08-02</td>\n",
       "      <td>Canton, OH</td>\n",
       "      <td>United States</td>\n",
       "      <td>NaN</td>\n",
       "      <td>NaN</td>\n",
       "      <td>NaN</td>\n",
       "      <td>NaN</td>\n",
       "      <td>...</td>\n",
       "      <td>Personal</td>\n",
       "      <td>NaN</td>\n",
       "      <td>1.0</td>\n",
       "      <td>2.0</td>\n",
       "      <td>NaN</td>\n",
       "      <td>0.0</td>\n",
       "      <td>VMC</td>\n",
       "      <td>Approach</td>\n",
       "      <td>Probable Cause</td>\n",
       "      <td>16-04-1980</td>\n",
       "    </tr>\n",
       "  </tbody>\n",
       "</table>\n",
       "<p>5 rows × 31 columns</p>\n",
       "</div>"
      ],
      "text/plain": [
       "         Event.Id Investigation.Type Accident.Number  Event.Date  \\\n",
       "0  20001218X45444           Accident      SEA87LA080  1948-10-24   \n",
       "1  20001218X45447           Accident      LAX94LA336  1962-07-19   \n",
       "2  20061025X01555           Accident      NYC07LA005  1974-08-30   \n",
       "3  20001218X45448           Accident      LAX96LA321  1977-06-19   \n",
       "4  20041105X01764           Accident      CHI79FA064  1979-08-02   \n",
       "\n",
       "          Location        Country   Latitude   Longitude Airport.Code  \\\n",
       "0  MOOSE CREEK, ID  United States        NaN         NaN          NaN   \n",
       "1   BRIDGEPORT, CA  United States        NaN         NaN          NaN   \n",
       "2    Saltville, VA  United States  36.922223  -81.878056          NaN   \n",
       "3       EUREKA, CA  United States        NaN         NaN          NaN   \n",
       "4       Canton, OH  United States        NaN         NaN          NaN   \n",
       "\n",
       "  Airport.Name  ... Purpose.of.flight Air.carrier Total.Fatal.Injuries  \\\n",
       "0          NaN  ...          Personal         NaN                  2.0   \n",
       "1          NaN  ...          Personal         NaN                  4.0   \n",
       "2          NaN  ...          Personal         NaN                  3.0   \n",
       "3          NaN  ...          Personal         NaN                  2.0   \n",
       "4          NaN  ...          Personal         NaN                  1.0   \n",
       "\n",
       "  Total.Serious.Injuries Total.Minor.Injuries Total.Uninjured  \\\n",
       "0                    0.0                  0.0             0.0   \n",
       "1                    0.0                  0.0             0.0   \n",
       "2                    NaN                  NaN             NaN   \n",
       "3                    0.0                  0.0             0.0   \n",
       "4                    2.0                  NaN             0.0   \n",
       "\n",
       "  Weather.Condition  Broad.phase.of.flight   Report.Status Publication.Date  \n",
       "0               UNK                 Cruise  Probable Cause              NaN  \n",
       "1               UNK                Unknown  Probable Cause       19-09-1996  \n",
       "2               IMC                 Cruise  Probable Cause       26-02-2007  \n",
       "3               IMC                 Cruise  Probable Cause       12-09-2000  \n",
       "4               VMC               Approach  Probable Cause       16-04-1980  \n",
       "\n",
       "[5 rows x 31 columns]"
      ]
     },
     "execution_count": 1721,
     "metadata": {},
     "output_type": "execute_result"
    }
   ],
   "source": [
    "#getting to know the data\n",
    "#data knowledge will enable to make clearer analysis\n",
    "df.head()"
   ]
  },
  {
   "cell_type": "code",
   "execution_count": 1722,
   "id": "24ab89c5",
   "metadata": {},
   "outputs": [
    {
     "name": "stdout",
     "output_type": "stream",
     "text": [
      "<class 'pandas.core.frame.DataFrame'>\n",
      "RangeIndex: 90348 entries, 0 to 90347\n",
      "Data columns (total 31 columns):\n",
      " #   Column                  Non-Null Count  Dtype  \n",
      "---  ------                  --------------  -----  \n",
      " 0   Event.Id                88889 non-null  object \n",
      " 1   Investigation.Type      90348 non-null  object \n",
      " 2   Accident.Number         88889 non-null  object \n",
      " 3   Event.Date              88889 non-null  object \n",
      " 4   Location                88837 non-null  object \n",
      " 5   Country                 88663 non-null  object \n",
      " 6   Latitude                34382 non-null  object \n",
      " 7   Longitude               34373 non-null  object \n",
      " 8   Airport.Code            50132 non-null  object \n",
      " 9   Airport.Name            52704 non-null  object \n",
      " 10  Injury.Severity         87889 non-null  object \n",
      " 11  Aircraft.damage         85695 non-null  object \n",
      " 12  Aircraft.Category       32287 non-null  object \n",
      " 13  Registration.Number     87507 non-null  object \n",
      " 14  Make                    88826 non-null  object \n",
      " 15  Model                   88797 non-null  object \n",
      " 16  Amateur.Built           88787 non-null  object \n",
      " 17  Number.of.Engines       82805 non-null  float64\n",
      " 18  Engine.Type             81793 non-null  object \n",
      " 19  FAR.Description         32023 non-null  object \n",
      " 20  Schedule                12582 non-null  object \n",
      " 21  Purpose.of.flight       82697 non-null  object \n",
      " 22  Air.carrier             16648 non-null  object \n",
      " 23  Total.Fatal.Injuries    77488 non-null  float64\n",
      " 24  Total.Serious.Injuries  76379 non-null  float64\n",
      " 25  Total.Minor.Injuries    76956 non-null  float64\n",
      " 26  Total.Uninjured         82977 non-null  float64\n",
      " 27  Weather.Condition       84397 non-null  object \n",
      " 28  Broad.phase.of.flight   61724 non-null  object \n",
      " 29  Report.Status           82505 non-null  object \n",
      " 30  Publication.Date        73659 non-null  object \n",
      "dtypes: float64(5), object(26)\n",
      "memory usage: 21.4+ MB\n"
     ]
    }
   ],
   "source": [
    "#overview of the data\n",
    "#get to know the number of entries and number of objects\n",
    "df.info()"
   ]
  },
  {
   "cell_type": "code",
   "execution_count": 1723,
   "id": "a0a2a702",
   "metadata": {},
   "outputs": [
    {
     "data": {
      "text/plain": [
       "Index(['Event.Id', 'Investigation.Type', 'Accident.Number', 'Event.Date',\n",
       "       'Location', 'Country', 'Latitude', 'Longitude', 'Airport.Code',\n",
       "       'Airport.Name', 'Injury.Severity', 'Aircraft.damage',\n",
       "       'Aircraft.Category', 'Registration.Number', 'Make', 'Model',\n",
       "       'Amateur.Built', 'Number.of.Engines', 'Engine.Type', 'FAR.Description',\n",
       "       'Schedule', 'Purpose.of.flight', 'Air.carrier', 'Total.Fatal.Injuries',\n",
       "       'Total.Serious.Injuries', 'Total.Minor.Injuries', 'Total.Uninjured',\n",
       "       'Weather.Condition', 'Broad.phase.of.flight', 'Report.Status',\n",
       "       'Publication.Date'],\n",
       "      dtype='object')"
      ]
     },
     "execution_count": 1723,
     "metadata": {},
     "output_type": "execute_result"
    }
   ],
   "source": [
    "#how about finding the columns the data has \n",
    "#insight into categorization used i.e data columns\n",
    "df.columns\n"
   ]
  },
  {
   "cell_type": "code",
   "execution_count": 1724,
   "id": "90d1723c",
   "metadata": {},
   "outputs": [
    {
     "data": {
      "text/html": [
       "<div>\n",
       "<style scoped>\n",
       "    .dataframe tbody tr th:only-of-type {\n",
       "        vertical-align: middle;\n",
       "    }\n",
       "\n",
       "    .dataframe tbody tr th {\n",
       "        vertical-align: top;\n",
       "    }\n",
       "\n",
       "    .dataframe thead th {\n",
       "        text-align: right;\n",
       "    }\n",
       "</style>\n",
       "<table border=\"1\" class=\"dataframe\">\n",
       "  <thead>\n",
       "    <tr style=\"text-align: right;\">\n",
       "      <th></th>\n",
       "      <th>Number.of.Engines</th>\n",
       "      <th>Total.Fatal.Injuries</th>\n",
       "      <th>Total.Serious.Injuries</th>\n",
       "      <th>Total.Minor.Injuries</th>\n",
       "      <th>Total.Uninjured</th>\n",
       "    </tr>\n",
       "  </thead>\n",
       "  <tbody>\n",
       "    <tr>\n",
       "      <th>count</th>\n",
       "      <td>82805.000000</td>\n",
       "      <td>77488.000000</td>\n",
       "      <td>76379.000000</td>\n",
       "      <td>76956.000000</td>\n",
       "      <td>82977.000000</td>\n",
       "    </tr>\n",
       "    <tr>\n",
       "      <th>mean</th>\n",
       "      <td>1.146585</td>\n",
       "      <td>0.647855</td>\n",
       "      <td>0.279881</td>\n",
       "      <td>0.357061</td>\n",
       "      <td>5.325440</td>\n",
       "    </tr>\n",
       "    <tr>\n",
       "      <th>std</th>\n",
       "      <td>0.446510</td>\n",
       "      <td>5.485960</td>\n",
       "      <td>1.544084</td>\n",
       "      <td>2.235625</td>\n",
       "      <td>27.913634</td>\n",
       "    </tr>\n",
       "    <tr>\n",
       "      <th>min</th>\n",
       "      <td>0.000000</td>\n",
       "      <td>0.000000</td>\n",
       "      <td>0.000000</td>\n",
       "      <td>0.000000</td>\n",
       "      <td>0.000000</td>\n",
       "    </tr>\n",
       "    <tr>\n",
       "      <th>25%</th>\n",
       "      <td>1.000000</td>\n",
       "      <td>0.000000</td>\n",
       "      <td>0.000000</td>\n",
       "      <td>0.000000</td>\n",
       "      <td>0.000000</td>\n",
       "    </tr>\n",
       "    <tr>\n",
       "      <th>50%</th>\n",
       "      <td>1.000000</td>\n",
       "      <td>0.000000</td>\n",
       "      <td>0.000000</td>\n",
       "      <td>0.000000</td>\n",
       "      <td>1.000000</td>\n",
       "    </tr>\n",
       "    <tr>\n",
       "      <th>75%</th>\n",
       "      <td>1.000000</td>\n",
       "      <td>0.000000</td>\n",
       "      <td>0.000000</td>\n",
       "      <td>0.000000</td>\n",
       "      <td>2.000000</td>\n",
       "    </tr>\n",
       "    <tr>\n",
       "      <th>max</th>\n",
       "      <td>8.000000</td>\n",
       "      <td>349.000000</td>\n",
       "      <td>161.000000</td>\n",
       "      <td>380.000000</td>\n",
       "      <td>699.000000</td>\n",
       "    </tr>\n",
       "  </tbody>\n",
       "</table>\n",
       "</div>"
      ],
      "text/plain": [
       "       Number.of.Engines  Total.Fatal.Injuries  Total.Serious.Injuries  \\\n",
       "count       82805.000000          77488.000000            76379.000000   \n",
       "mean            1.146585              0.647855                0.279881   \n",
       "std             0.446510              5.485960                1.544084   \n",
       "min             0.000000              0.000000                0.000000   \n",
       "25%             1.000000              0.000000                0.000000   \n",
       "50%             1.000000              0.000000                0.000000   \n",
       "75%             1.000000              0.000000                0.000000   \n",
       "max             8.000000            349.000000              161.000000   \n",
       "\n",
       "       Total.Minor.Injuries  Total.Uninjured  \n",
       "count          76956.000000     82977.000000  \n",
       "mean               0.357061         5.325440  \n",
       "std                2.235625        27.913634  \n",
       "min                0.000000         0.000000  \n",
       "25%                0.000000         0.000000  \n",
       "50%                0.000000         1.000000  \n",
       "75%                0.000000         2.000000  \n",
       "max              380.000000       699.000000  "
      ]
     },
     "execution_count": 1724,
     "metadata": {},
     "output_type": "execute_result"
    }
   ],
   "source": [
    "#lets get the summary statics of the data\n",
    "df.describe()"
   ]
  },
  {
   "cell_type": "markdown",
   "id": "c7dfd715",
   "metadata": {},
   "source": [
    "Data cleaning and Data handling "
   ]
  },
  {
   "cell_type": "code",
   "execution_count": 1725,
   "id": "0c0b6ff1",
   "metadata": {},
   "outputs": [
    {
     "data": {
      "text/plain": [
       "Event.Id                   1459\n",
       "Investigation.Type            0\n",
       "Accident.Number            1459\n",
       "Event.Date                 1459\n",
       "Location                   1511\n",
       "Country                    1685\n",
       "Latitude                  55966\n",
       "Longitude                 55975\n",
       "Airport.Code              40216\n",
       "Airport.Name              37644\n",
       "Injury.Severity            2459\n",
       "Aircraft.damage            4653\n",
       "Aircraft.Category         58061\n",
       "Registration.Number        2841\n",
       "Make                       1522\n",
       "Model                      1551\n",
       "Amateur.Built              1561\n",
       "Number.of.Engines          7543\n",
       "Engine.Type                8555\n",
       "FAR.Description           58325\n",
       "Schedule                  77766\n",
       "Purpose.of.flight          7651\n",
       "Air.carrier               73700\n",
       "Total.Fatal.Injuries      12860\n",
       "Total.Serious.Injuries    13969\n",
       "Total.Minor.Injuries      13392\n",
       "Total.Uninjured            7371\n",
       "Weather.Condition          5951\n",
       "Broad.phase.of.flight     28624\n",
       "Report.Status              7843\n",
       "Publication.Date          16689\n",
       "dtype: int64"
      ]
     },
     "execution_count": 1725,
     "metadata": {},
     "output_type": "execute_result"
    }
   ],
   "source": [
    "#getting to know about missing values\n",
    "#will assist to eliminate to ensure we get most inform from data with more information\n",
    "#check the number of missing values\n",
    "df.isna().sum()"
   ]
  },
  {
   "cell_type": "code",
   "execution_count": 1726,
   "id": "72a731bc",
   "metadata": {},
   "outputs": [
    {
     "data": {
      "text/plain": [
       "Index(['Event.Id', 'Investigation.Type', 'Accident.Number', 'Event.Date',\n",
       "       'Location', 'Country', 'Latitude', 'Longitude', 'Airport.Code',\n",
       "       'Airport.Name', 'Injury.Severity', 'Aircraft.damage',\n",
       "       'Aircraft.Category', 'Registration.Number', 'Make', 'Model',\n",
       "       'Amateur.Built', 'Number.of.Engines', 'Engine.Type', 'FAR.Description',\n",
       "       'Schedule', 'Purpose.of.flight', 'Air.carrier', 'Total.Fatal.Injuries',\n",
       "       'Total.Serious.Injuries', 'Total.Minor.Injuries', 'Total.Uninjured',\n",
       "       'Weather.Condition', 'Broad.phase.of.flight', 'Report.Status',\n",
       "       'Publication.Date'],\n",
       "      dtype='object')"
      ]
     },
     "execution_count": 1726,
     "metadata": {},
     "output_type": "execute_result"
    }
   ],
   "source": [
    "#check the columns inorder to choose what is irrelevant\n",
    "df.columns\n"
   ]
  },
  {
   "cell_type": "code",
   "execution_count": 1727,
   "id": "e1d2ce68",
   "metadata": {},
   "outputs": [
    {
     "data": {
      "text/html": [
       "<div>\n",
       "<style scoped>\n",
       "    .dataframe tbody tr th:only-of-type {\n",
       "        vertical-align: middle;\n",
       "    }\n",
       "\n",
       "    .dataframe tbody tr th {\n",
       "        vertical-align: top;\n",
       "    }\n",
       "\n",
       "    .dataframe thead th {\n",
       "        text-align: right;\n",
       "    }\n",
       "</style>\n",
       "<table border=\"1\" class=\"dataframe\">\n",
       "  <thead>\n",
       "    <tr style=\"text-align: right;\">\n",
       "      <th></th>\n",
       "      <th>Event.Id</th>\n",
       "      <th>Investigation.Type</th>\n",
       "      <th>Event.Date</th>\n",
       "      <th>Location</th>\n",
       "      <th>Country</th>\n",
       "      <th>Injury.Severity</th>\n",
       "      <th>Aircraft.damage</th>\n",
       "      <th>Make</th>\n",
       "      <th>Model</th>\n",
       "      <th>Number.of.Engines</th>\n",
       "      <th>Purpose.of.flight</th>\n",
       "      <th>Total.Fatal.Injuries</th>\n",
       "      <th>Total.Serious.Injuries</th>\n",
       "      <th>Total.Minor.Injuries</th>\n",
       "      <th>Total.Uninjured</th>\n",
       "      <th>Weather.Condition</th>\n",
       "    </tr>\n",
       "  </thead>\n",
       "  <tbody>\n",
       "    <tr>\n",
       "      <th>0</th>\n",
       "      <td>20001218X45444</td>\n",
       "      <td>Accident</td>\n",
       "      <td>1948-10-24</td>\n",
       "      <td>MOOSE CREEK, ID</td>\n",
       "      <td>United States</td>\n",
       "      <td>Fatal(2)</td>\n",
       "      <td>Destroyed</td>\n",
       "      <td>Stinson</td>\n",
       "      <td>108-3</td>\n",
       "      <td>1.0</td>\n",
       "      <td>Personal</td>\n",
       "      <td>2.0</td>\n",
       "      <td>0.0</td>\n",
       "      <td>0.0</td>\n",
       "      <td>0.0</td>\n",
       "      <td>UNK</td>\n",
       "    </tr>\n",
       "    <tr>\n",
       "      <th>1</th>\n",
       "      <td>20001218X45447</td>\n",
       "      <td>Accident</td>\n",
       "      <td>1962-07-19</td>\n",
       "      <td>BRIDGEPORT, CA</td>\n",
       "      <td>United States</td>\n",
       "      <td>Fatal(4)</td>\n",
       "      <td>Destroyed</td>\n",
       "      <td>Piper</td>\n",
       "      <td>PA24-180</td>\n",
       "      <td>1.0</td>\n",
       "      <td>Personal</td>\n",
       "      <td>4.0</td>\n",
       "      <td>0.0</td>\n",
       "      <td>0.0</td>\n",
       "      <td>0.0</td>\n",
       "      <td>UNK</td>\n",
       "    </tr>\n",
       "  </tbody>\n",
       "</table>\n",
       "</div>"
      ],
      "text/plain": [
       "         Event.Id Investigation.Type  Event.Date         Location  \\\n",
       "0  20001218X45444           Accident  1948-10-24  MOOSE CREEK, ID   \n",
       "1  20001218X45447           Accident  1962-07-19   BRIDGEPORT, CA   \n",
       "\n",
       "         Country Injury.Severity Aircraft.damage     Make     Model  \\\n",
       "0  United States        Fatal(2)       Destroyed  Stinson     108-3   \n",
       "1  United States        Fatal(4)       Destroyed    Piper  PA24-180   \n",
       "\n",
       "   Number.of.Engines Purpose.of.flight  Total.Fatal.Injuries  \\\n",
       "0                1.0          Personal                   2.0   \n",
       "1                1.0          Personal                   4.0   \n",
       "\n",
       "   Total.Serious.Injuries  Total.Minor.Injuries  Total.Uninjured  \\\n",
       "0                     0.0                   0.0              0.0   \n",
       "1                     0.0                   0.0              0.0   \n",
       "\n",
       "  Weather.Condition  \n",
       "0               UNK  \n",
       "1               UNK  "
      ]
     },
     "execution_count": 1727,
     "metadata": {},
     "output_type": "execute_result"
    }
   ],
   "source": [
    "#I think there are many columns which are not important for my analysis.\n",
    "#  I drop these columns for easier handling of data and clearer analysis\n",
    "# I am going to drop columns that have roughly more than 25% of their data missing.Quarter makes sense\n",
    "columns_to_drop = ['Accident.Number','Registration.Number','Amateur.Built','Publication.Date','Report.Status',\n",
    "'Engine.Type','Latitude','Longitude','Airport.Code','Airport.Name','Aircraft.Category','FAR.Description',\n",
    "'Schedule','Air.carrier','Broad.phase.of.flight','Report.Status']\n",
    "df = df.drop(columns=columns_to_drop)\n",
    "#see columns left and find any similarities\n",
    "df.head(2)"
   ]
  },
  {
   "cell_type": "markdown",
   "id": "f538c1b2",
   "metadata": {},
   "source": [
    "When exploring  the data,I noticed Injury.Severity and Total.fatal.injuries return same data.But Total.FataL.Injuries has many missing data, thus we are going to drop it.We can use Injury.Severity.It will give us more of data neeeded for our analysis."
   ]
  },
  {
   "cell_type": "code",
   "execution_count": 1728,
   "id": "554c124e",
   "metadata": {},
   "outputs": [],
   "source": [
    "#drop the column that has similar data but more missing values\n",
    "columns_to_drop = ['Total.Fatal.Injuries']\n",
    "df = df.drop(columns=columns_to_drop)\n"
   ]
  },
  {
   "cell_type": "markdown",
   "id": "d2920d9c",
   "metadata": {},
   "source": [
    "From the data set provided,we want to find the country featuring alot.This will help select country to focus this analysis."
   ]
  },
  {
   "cell_type": "code",
   "execution_count": 1729,
   "id": "ff948ebe",
   "metadata": {},
   "outputs": [
    {
     "data": {
      "text/plain": [
       "Country\n",
       "United States                       82248\n",
       "Brazil                                374\n",
       "Canada                                359\n",
       "Mexico                                358\n",
       "United Kingdom                        344\n",
       "                                    ...  \n",
       "Seychelles                              1\n",
       "Palau                                   1\n",
       "Libya                                   1\n",
       "Saint Vincent and the Grenadines        1\n",
       "Turks and Caicos Islands                1\n",
       "Name: count, Length: 219, dtype: int64"
      ]
     },
     "execution_count": 1729,
     "metadata": {},
     "output_type": "execute_result"
    }
   ],
   "source": [
    "#find out country with most dataset entries\n",
    "df['Country'].value_counts()\n"
   ]
  },
  {
   "cell_type": "markdown",
   "id": "fa529be1",
   "metadata": {},
   "source": [
    "We going to focus on United States since its way above 80 % of the dataset.This gives an deeper and better analysis."
   ]
  },
  {
   "cell_type": "markdown",
   "id": "5263b92e",
   "metadata": {},
   "source": [
    "Going to change event date to be featuring the year only for better analysis."
   ]
  },
  {
   "cell_type": "code",
   "execution_count": 1730,
   "id": "97bb20dc",
   "metadata": {},
   "outputs": [],
   "source": [
    "#we going to select United states only"
   ]
  },
  {
   "cell_type": "code",
   "execution_count": 1731,
   "id": "2c5a11d7",
   "metadata": {},
   "outputs": [],
   "source": [
    "df = df = df[df['Country'] == 'United States']\n",
    "df.reset_index(drop=True, inplace=True)"
   ]
  },
  {
   "cell_type": "code",
   "execution_count": 1732,
   "id": "d6e9855d",
   "metadata": {},
   "outputs": [],
   "source": [
    "#changing event.date to year only\n",
    "df['Event.Date'] = pd.to_datetime(df['Event.Date'], format='%Y-%m-%d')\n",
    "df['Year'] = df['Event.Date'].dt.year"
   ]
  },
  {
   "cell_type": "code",
   "execution_count": 1733,
   "id": "5fb102ea",
   "metadata": {},
   "outputs": [],
   "source": [
    "df = df[df['Year'] >= 1993]\n",
    "accidents_by_year = df['Year'].value_counts().sort_index()"
   ]
  },
  {
   "cell_type": "markdown",
   "id": "65460a9e",
   "metadata": {},
   "source": [
    "Data Visualization"
   ]
  },
  {
   "cell_type": "markdown",
   "id": "417d9113",
   "metadata": {},
   "source": [
    "We can have a look at aviation accidents over years.Full narrative descriptions were not much available for dates before 1993,cases under revision and where NTSB didn't have primary investigative obligation."
   ]
  },
  {
   "cell_type": "code",
   "execution_count": 1734,
   "id": "eaf56a05",
   "metadata": {},
   "outputs": [
    {
     "data": {
      "image/png": "[encoded data removed]",
      "text/plain": [
       "<Figure size 1000x600 with 1 Axes>"
      ]
     },
     "metadata": {},
     "output_type": "display_data"
    }
   ],
   "source": [
    "#line plot for aviation accidents from 1993 to 2023\n",
    "df = df[df['Year'] >= 1993]\n",
    "accidents_by_year = df['Year'].value_counts().sort_index()\n",
    "x = accidents_by_year.index\n",
    "y =  accidents_by_year.values\n",
    "plt.figure(figsize=(10, 6))\n",
    "plt.plot(x, y, linestyle= '-')\n",
    "plt.title('Number of Aviation Accidents From 1993 to 2023')\n",
    "plt.xlabel('Year')\n",
    "plt.ylabel('Number of Accidents')\n",
    "plt.grid(True)\n",
    "\n",
    "plt.show()"
   ]
  },
  {
   "cell_type": "markdown",
   "id": "3b2616b9",
   "metadata": {},
   "source": [
    "We can look at the top ten states with accidents."
   ]
  },
  {
   "cell_type": "code",
   "execution_count": 1735,
   "id": "3b000c4a",
   "metadata": {},
   "outputs": [],
   "source": [
    "# I create new columns using Location for future geographical analysis and visualisations. \n",
    "#This was easier on Jupyter notebook by pip install us & import us, but it did not work on Kaggle\n",
    "# So I ended up creating a list of valid US states codes\n",
    "\n",
    "valid_state_codes = [\n",
    "    'AL', 'AK', 'AZ', 'AR', 'CA', 'CO', 'CT', 'DE', 'FL', 'GA', \n",
    "    'HI', 'ID', 'IL', 'IN', 'IA', 'KS', 'KY', 'LA', 'ME', 'MD', \n",
    "    'MA', 'MI', 'MN', 'MS', 'MO', 'MT', 'NE', 'NV', 'NH', 'NJ', \n",
    "    'NM', 'NY', 'NC', 'ND', 'OH', 'OK', 'OR', 'PA', 'RI', 'SC', \n",
    "    'SD', 'TN', 'TX', 'UT', 'VT', 'VA', 'WA', 'WV', 'WI', 'WY'\n",
    "]\n",
    "\n",
    "def extract_city_state(location):\n",
    "    if pd.notna(location):\n",
    "        location = location.strip()\n",
    "        last_two_chars = location[-2:].upper()\n",
    "        if last_two_chars in valid_state_codes:\n",
    "            return location[:-3].strip(), last_two_chars\n",
    "        else:\n",
    "            return location, \"Not Applicable\" # Some accidents have not happend in a particular state\n",
    "    else:\n",
    "        return np.nan, np.nan\n",
    "\n",
    "df[['City', 'State']] = df['Location'].apply(extract_city_state).apply(pd.Series)"
   ]
  },
  {
   "cell_type": "code",
   "execution_count": 1736,
   "id": "59e7fb98",
   "metadata": {},
   "outputs": [],
   "source": [
    "# getting rid of trailing commas in City column\n",
    "df['City'] = df['City'].str.rstrip(',')"
   ]
  },
  {
   "cell_type": "code",
   "execution_count": 1737,
   "id": "a7f71232",
   "metadata": {},
   "outputs": [],
   "source": [
    "# having devided Location and Date columns, now we can drop these as well\n",
    "df.drop(columns=['Event.Date', 'Location'], inplace=True)"
   ]
  },
  {
   "cell_type": "code",
   "execution_count": 1738,
   "id": "5eedfa5e",
   "metadata": {},
   "outputs": [
    {
     "name": "stderr",
     "output_type": "stream",
     "text": [
      "C:\\Users\\ADMIN\\AppData\\Local\\Temp\\ipykernel_12852\\1327370354.py:5: MatplotlibDeprecationWarning: The get_cmap function was deprecated in Matplotlib 3.7 and will be removed in 3.11. Use ``matplotlib.colormaps[name]`` or ``matplotlib.colormaps.get_cmap()`` or ``pyplot.get_cmap()`` instead.\n",
      "  cmap = cm.get_cmap('cividis', len(top_10_states))\n"
     ]
    },
    {
     "data": {
      "image/png": "[encoded data removed]",
      "text/plain": [
       "<Figure size 600x400 with 1 Axes>"
      ]
     },
     "metadata": {},
     "output_type": "display_data"
    }
   ],
   "source": [
    "# Let's have a look at top ten states with most accidents \n",
    "top_10_states = df['State'].value_counts().head(10)\n",
    "\n",
    "\n",
    "cmap = cm.get_cmap('cividis', len(top_10_states))\n",
    "colors = cmap(range(len(top_10_states)))\n",
    "x = top_10_states.index\n",
    "y = top_10_states.values\n",
    "plt.figure(figsize=(6, 4))\n",
    "bars = plt.bar(x, y, color=colors)\n",
    "plt.xlabel('State')\n",
    "plt.ylabel('Count')\n",
    "plt.title('Top 10 States with Most Accidents')\n",
    "plt.xticks(rotation=45)\n",
    "plt.grid(axis='y', linestyle='--', alpha=0.7)\n",
    "plt.show()"
   ]
  },
  {
   "cell_type": "markdown",
   "id": "ce9a797e",
   "metadata": {},
   "source": []
  },
  {
   "cell_type": "code",
   "execution_count": 1739,
   "id": "6e7affe1",
   "metadata": {},
   "outputs": [
    {
     "data": {
      "image/png": "[encoded data removed]",
      "text/plain": [
       "<Figure size 600x400 with 1 Axes>"
      ]
     },
     "metadata": {},
     "output_type": "display_data"
    }
   ],
   "source": [
    "# Exploring the purpose of flights involved in accidents\n",
    "\n",
    "top_10_purposes = df['Purpose.of.flight'].value_counts().nlargest(10).sort_values(ascending=False)\n",
    "\n",
    "\n",
    "plt.figure(figsize=(6, 4))\n",
    "top_10_purposes.plot(kind='bar')\n",
    "plt.title('Distribution of Accidents by Flight Purpose (Top 10)')\n",
    "plt.xlabel('Purpose of Flight')\n",
    "plt.ylabel('Number of Accidents')\n",
    "plt.xticks(rotation=45, ha='right')  \n",
    "plt.tight_layout()\n",
    "\n",
    "\n",
    "plt.show()\n",
    "# Significant number of personal flights are responsible for aviation accidents"
   ]
  },
  {
   "cell_type": "markdown",
   "id": "42a70b11",
   "metadata": {},
   "source": [
    "Try to see relationship between Makes,models and engines types in regard to accidents."
   ]
  },
  {
   "cell_type": "code",
   "execution_count": 1740,
   "id": "a19377f6",
   "metadata": {},
   "outputs": [
    {
     "data": {
      "text/html": [
       "<div>\n",
       "<style scoped>\n",
       "    .dataframe tbody tr th:only-of-type {\n",
       "        vertical-align: middle;\n",
       "    }\n",
       "\n",
       "    .dataframe tbody tr th {\n",
       "        vertical-align: top;\n",
       "    }\n",
       "\n",
       "    .dataframe thead th {\n",
       "        text-align: right;\n",
       "    }\n",
       "</style>\n",
       "<table border=\"1\" class=\"dataframe\">\n",
       "  <thead>\n",
       "    <tr style=\"text-align: right;\">\n",
       "      <th></th>\n",
       "      <th>Make</th>\n",
       "      <th>Model</th>\n",
       "      <th>AccidentCount</th>\n",
       "    </tr>\n",
       "  </thead>\n",
       "  <tbody>\n",
       "    <tr>\n",
       "      <th>4118</th>\n",
       "      <td>Cessna</td>\n",
       "      <td>152</td>\n",
       "      <td>820</td>\n",
       "    </tr>\n",
       "    <tr>\n",
       "      <th>4133</th>\n",
       "      <td>Cessna</td>\n",
       "      <td>172</td>\n",
       "      <td>599</td>\n",
       "    </tr>\n",
       "    <tr>\n",
       "      <th>4164</th>\n",
       "      <td>Cessna</td>\n",
       "      <td>172N</td>\n",
       "      <td>508</td>\n",
       "    </tr>\n",
       "    <tr>\n",
       "      <th>3442</th>\n",
       "      <td>CESSNA</td>\n",
       "      <td>172</td>\n",
       "      <td>410</td>\n",
       "    </tr>\n",
       "    <tr>\n",
       "      <th>10877</th>\n",
       "      <td>Piper</td>\n",
       "      <td>PA-28-140</td>\n",
       "      <td>359</td>\n",
       "    </tr>\n",
       "    <tr>\n",
       "      <th>...</th>\n",
       "      <td>...</td>\n",
       "      <td>...</td>\n",
       "      <td>...</td>\n",
       "    </tr>\n",
       "    <tr>\n",
       "      <th>6075</th>\n",
       "      <td>FAUNCE</td>\n",
       "      <td>PA-11</td>\n",
       "      <td>1</td>\n",
       "    </tr>\n",
       "    <tr>\n",
       "      <th>6076</th>\n",
       "      <td>FDR601 LLC</td>\n",
       "      <td>ZODIAC 601XL</td>\n",
       "      <td>1</td>\n",
       "    </tr>\n",
       "    <tr>\n",
       "      <th>6077</th>\n",
       "      <td>FECHTNER</td>\n",
       "      <td>KR-2</td>\n",
       "      <td>1</td>\n",
       "    </tr>\n",
       "    <tr>\n",
       "      <th>6078</th>\n",
       "      <td>FEDERSEN WALTER</td>\n",
       "      <td>LANCAIR IVP</td>\n",
       "      <td>1</td>\n",
       "    </tr>\n",
       "    <tr>\n",
       "      <th>14587</th>\n",
       "      <td>unknown</td>\n",
       "      <td>kit</td>\n",
       "      <td>1</td>\n",
       "    </tr>\n",
       "  </tbody>\n",
       "</table>\n",
       "<p>14588 rows × 3 columns</p>\n",
       "</div>"
      ],
      "text/plain": [
       "                  Make         Model  AccidentCount\n",
       "4118            Cessna           152            820\n",
       "4133            Cessna           172            599\n",
       "4164            Cessna          172N            508\n",
       "3442            CESSNA           172            410\n",
       "10877            Piper     PA-28-140            359\n",
       "...                ...           ...            ...\n",
       "6075            FAUNCE         PA-11              1\n",
       "6076        FDR601 LLC  ZODIAC 601XL              1\n",
       "6077          FECHTNER          KR-2              1\n",
       "6078   FEDERSEN WALTER   LANCAIR IVP              1\n",
       "14587          unknown           kit              1\n",
       "\n",
       "[14588 rows x 3 columns]"
      ]
     },
     "execution_count": 1740,
     "metadata": {},
     "output_type": "execute_result"
    }
   ],
   "source": [
    "# Trying to see the relationship between Makes, Models and engine types with accidents \n",
    "make_model_accident_counts = df.groupby(['Make', 'Model']).size().reset_index(name='AccidentCount', drop=False)\n",
    "make_model_accident_counts = make_model_accident_counts.sort_values(by='AccidentCount', ascending=False)\n",
    "make_model_accident_counts"
   ]
  },
  {
   "cell_type": "markdown",
   "id": "a0651eed",
   "metadata": {},
   "source": [
    "There is more accidents for the cessna model but this could be due to popularity of these models."
   ]
  },
  {
   "cell_type": "markdown",
   "id": "a08ba298",
   "metadata": {},
   "source": [
    "We can explore if there is relationship between weather conditions and accidents."
   ]
  },
  {
   "cell_type": "code",
   "execution_count": 1741,
   "id": "b0ea24d7",
   "metadata": {},
   "outputs": [
    {
     "data": {
      "image/png": "[encoded data removed]",
      "text/plain": [
       "<Figure size 1200x400 with 2 Axes>"
      ]
     },
     "metadata": {},
     "output_type": "display_data"
    }
   ],
   "source": [
    "# I would like to explore if there is a meaningful relationship between wheather condition and accidents\n",
    "\n",
    "# in Weather column'Unknown' value was writen in both upper and lower cases and it needed to be sorted out\n",
    "df['Weather.Condition'] = df['Weather.Condition'].str.upper()\n",
    "\n",
    "\n",
    "weather_counts_updated = df['Weather.Condition'].value_counts()\n",
    "\n",
    "fig, axes = plt.subplots(1, 2, figsize=(12, 4))\n",
    "\n",
    "\n",
    "axes[0].pie(weather_counts_updated, labels=weather_counts_updated.index,autopct='%1.1f%%', startangle=140)\n",
    "axes[0].set_title('Distribution of Weather Conditions (Pie Chart)')\n",
    "axes[0].axis('equal')  \n",
    "\n",
    "\n",
    "\n",
    "weather_counts_updated.plot(kind='bar', color='red', ax=axes[1])\n",
    "axes[1].set_title('Distribution of Weather Conditions (Bar Plot)')\n",
    "axes[1].set_xlabel('Weather Condition')\n",
    "axes[1].set_ylabel('Count')\n",
    "axes[1].tick_params(axis='x', rotation=45)\n",
    "\n",
    "plt.show()"
   ]
  },
  {
   "cell_type": "markdown",
   "id": "fd5bd6b6",
   "metadata": {},
   "source": [
    "From the above, most accidents occur in VMC weather condition whic more favourable for pilots.Thus more flights are in opretion during this time."
   ]
  },
  {
   "cell_type": "markdown",
   "id": "e9c3c241",
   "metadata": {},
   "source": [
    "**CONCLUSION**"
   ]
  },
  {
   "cell_type": "markdown",
   "id": "7c896aba",
   "metadata": {},
   "source": [
    "Its clear there has been a decrease in accident since 1993 thus encouraging to venture in the industry.There are still states like California and Texas still reporting high accidents.Regular reviews and updates of measure like safety protocols ,regulations and procudures will keep you afloat."
   ]
  },
  {
   "cell_type": "markdown",
   "id": "87e51f0e",
   "metadata": {},
   "source": [
    "Most accidents occur in good weather conditions,meaning most Pilots could be less vigilant and also drop there guard.There could be incidents of laxity,excessive speed and less observation of safety protocols.To cater for this,I recommend refresher training and creating awarenes to remind Pilots of safety protocls during good weather conditions."
   ]
  },
  {
   "cell_type": "markdown",
   "id": "0bc00ab5",
   "metadata": {},
   "source": [
    "Personal flights is cause for mst accidents.Thus venturing in commercial flights gives as an edge of less accidents.Due to safety protocols and regular trainings We are guaranteed to avoid such."
   ]
  },
  {
   "cell_type": "markdown",
   "id": "ba8eb7fb",
   "metadata": {},
   "source": [
    "Finally purchase should be focused on model with less accidents.It will be cost effective and less cost on repairs or replacements\n"
   ]
  }
 ],
 "metadata": {
  "kernelspec": {
   "display_name": "Python (learn-env)",
   "language": "python",
   "name": "learn-env"
  },
  "language_info": {
   "codemirror_mode": {
    "name": "ipython",
    "version": 3
   },
   "file_extension": ".py",
   "mimetype": "text/x-python",
   "name": "python",
   "nbconvert_exporter": "python",
   "pygments_lexer": "ipython3",
   "version": "3.12.7"
  }
 },
 "nbformat": 4,
 "nbformat_minor": 5
}
